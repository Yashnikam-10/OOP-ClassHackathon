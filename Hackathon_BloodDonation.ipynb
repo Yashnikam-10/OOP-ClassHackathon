{
  "nbformat": 4,
  "nbformat_minor": 0,
  "metadata": {
    "colab": {
      "name": "Hackathon_BloodDonation.ipynb",
      "provenance": [],
      "authorship_tag": "ABX9TyOqaMZFSViCD2D2ugDVoD/G",
      "include_colab_link": true
    },
    "kernelspec": {
      "name": "python3",
      "display_name": "Python 3"
    },
    "language_info": {
      "name": "python"
    }
  },
  "cells": [
    {
      "cell_type": "markdown",
      "metadata": {
        "id": "view-in-github",
        "colab_type": "text"
      },
      "source": [
        "<a href=\"https://colab.research.google.com/github/Yashnikam-10/OOP-ClassHackathon/blob/main/Hackathon_BloodDonation.ipynb\" target=\"_parent\"><img src=\"https://colab.research.google.com/assets/colab-badge.svg\" alt=\"Open In Colab\"/></a>"
      ]
    },
    {
      "cell_type": "code",
      "metadata": {
        "id": "3g2xlhv_erG0"
      },
      "source": [
        ""
      ],
      "execution_count": null,
      "outputs": []
    },
    {
      "cell_type": "code",
      "metadata": {
        "colab": {
          "base_uri": "https://localhost:8080/"
        },
        "id": "wF4-6gsZemDp",
        "outputId": "880e0d4b-5f75-417e-b992-51e9adc9796e"
      },
      "source": [
        "!python /content/drive/MyDrive/Hackathon_BloodDonation.py"
      ],
      "execution_count": null,
      "outputs": [
        {
          "output_type": "stream",
          "text": [
            "Enter the name: yash nikam\n",
            "Enter the branch name: branch_1\n",
            "Enter the age of the donor: 19\n",
            "Enter the gender of the donor: male\n",
            "Enter the blood_group of the donor(type(a,b,ab,o)_sign(positive,negative)): b_positive\n",
            "Enter the name: nn\n",
            "Enter the branch name: branch_1\n",
            "Enter the age of the donor: 37\n",
            "Enter the gender of the donor: f\n",
            "Enter the blood_group of the donor(type(a,b,ab,o)_sign(positive,negative)): ab_negative\n",
            "Enter the name: vn\n",
            "Enter the branch name: branch_2\n",
            "Enter the age of the donor: 12\n",
            "Enter the gender of the donor: m\n",
            "Enter the blood_group of the donor(type(a,b,ab,o)_sign(positive,negative)): a_positive\n",
            "Enter the name: dn\n",
            "Enter the branch name: branch_3\n",
            "Enter the age of the donor: 42\n",
            "Enter the gender of the donor: m\n",
            "Enter the blood_group of the donor(type(a,b,ab,o)_sign(positive,negative)): o_positive\n",
            "Name: nn\n",
            "Blood group: ab_negative\n",
            "Age: 37\n",
            "Gender: f\n",
            "Branch: branch_1\n",
            "Date of donation: 2021-08-29\n",
            "Date of utilisation: None\n",
            "Date of expiry: 2021-09-12\n",
            "\n",
            "\n",
            "Name: yash nikam\n",
            "Blood group: b_positive\n",
            "Age: 19\n",
            "Gender: male\n",
            "Branch: branch_1\n",
            "Date of donation: 2021-08-29\n",
            "Date of utilisation: None\n",
            "Date of expiry: 2021-09-12\n",
            "\n",
            "\n"
          ],
          "name": "stdout"
        }
      ]
    }
  ]
}